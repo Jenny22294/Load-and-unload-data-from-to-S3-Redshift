{
 "cells": [
  {
   "cell_type": "code",
   "execution_count": null,
   "metadata": {
    "scrolled": true
   },
   "outputs": [],
   "source": [
    "# Install packages psycopg2-binary boto3\n",
    "\n",
    "!pip install psycopg2-binary boto3"
   ]
  },
  {
   "cell_type": "code",
   "execution_count": null,
   "metadata": {},
   "outputs": [],
   "source": [
    "# HOST = \"\" # Fill this\n",
    "# DATA_BUCKET = \"\" # Fill this \n",
    "DATABASE = \"your database name\"\n",
    "USER = \"Your master username\"\n",
    "PASSWORD = \"your database password\"\n",
    "PORT = 5439"
   ]
  },
  {
   "cell_type": "code",
   "execution_count": null,
   "metadata": {},
   "outputs": [],
   "source": [
    "# Establish a connection to the database and test that connection by reading the database name\n",
    "\n",
    "import psycopg2\n",
    "from pprint import pprint\n",
    "\n",
    "query = '''SELECT datname FROM pg_database;'''\n",
    "\n",
    "conn = psycopg2.connect(\n",
    "    host=HOST,\n",
    "    user=USER,\n",
    "    port=PORT,\n",
    "    password=PASSWORD,\n",
    "    dbname=DATABASE\n",
    ")\n",
    "\n",
    "def runquery(conn,query,commit_bool=False):\n",
    "    \"\"\"\n",
    "    Just run a query given a connection\n",
    "    \"\"\"\n",
    "    \n",
    "    curr=conn.cursor()\n",
    "    curr.execute(query)\n",
    "    if commit_bool:\n",
    "        conn.commit()\n",
    "        return None\n",
    "    for row in curr.fetchall():\n",
    "        pprint(row)\n",
    "    return None\n",
    "\n",
    "runquery(conn, query)"
   ]
  },
  {
   "cell_type": "code",
   "execution_count": null,
   "metadata": {},
   "outputs": [],
   "source": [
    "# Create a redshift table\n",
    "\n",
    "table_create_query = '''\n",
    "create table movies(\n",
    "    title varchar(300) not null,\n",
    "    year integer not null,\n",
    "    rating real not null,\n",
    "    running_time_secs integer not null\n",
    ");\n",
    "'''\n",
    "\n",
    "runquery(conn, table_create_query, commit_bool=True)\n"
   ]
  },
  {
   "cell_type": "code",
   "execution_count": null,
   "metadata": {},
   "outputs": [],
   "source": [
    "# Check if the databse was created or not?\n",
    "\n",
    "view_public_tables_query = '''\n",
    "SELECT DISTINCT\n",
    "  tablename\n",
    "FROM\n",
    "  PG_TABLE_DEF\n",
    "WHERE\n",
    "  schemaname = 'public';\n",
    "'''\n",
    "\n",
    "\n",
    "runquery(conn, view_public_tables_query)"
   ]
  },
  {
   "cell_type": "code",
   "execution_count": null,
   "metadata": {},
   "outputs": [],
   "source": [
    "# Check the info of S3\n",
    "!aws s3 ls"
   ]
  },
  {
   "cell_type": "code",
   "execution_count": null,
   "metadata": {},
   "outputs": [],
   "source": [
    "# Compress csv file to csv.gzip file for smoothly running\n",
    "\n",
    "import gzip\n",
    "import shutil\n",
    "with open('./data.csv', 'rb') as f_in:\n",
    "    with gzip.open('data.csv.gz', 'wb') as f_out:\n",
    "        shutil.copyfileobj(f_in, f_out)\n",
    "\n",
    "import boto3\n",
    "s3 = boto3.resource('s3')\n",
    "s3.meta.client.upload_file('./data.csv.gz', DATA_BUCKET, 'data.csv.gz')"
   ]
  },
  {
   "cell_type": "code",
   "execution_count": null,
   "metadata": {},
   "outputs": [],
   "source": [
    "IAM_ROLE = \"your IAM role endpoint\" # fill this"
   ]
  },
  {
   "cell_type": "code",
   "execution_count": null,
   "metadata": {},
   "outputs": [],
   "source": [
    "# Load all dataset to Redshift\n",
    "\n",
    "copy_query = '''\n",
    "copy movies from 's3://{0}/data.csv.gz'\n",
    "iam_role '{1}'\n",
    "CSV\n",
    "GZIP\n",
    "IGNOREHEADER 1;\n",
    "'''.format(DATA_BUCKET, IAM_ROLE)\n",
    "\n",
    "\n",
    "runquery(conn, copy_query, commit_bool=True)"
   ]
  },
  {
   "cell_type": "code",
   "execution_count": null,
   "metadata": {},
   "outputs": [],
   "source": [
    "# Get the needed information based on requirement\n",
    "\n",
    "best_2013_movies_query = '''\n",
    "SELECT title, rating FROM movies\n",
    "WHERE year = 2013 and rating > 8.0\n",
    "ORDER BY rating DESC;\n",
    "'''.format(DATA_BUCKET, IAM_ROLE)\n",
    "\n",
    "\n",
    "runquery(conn, best_2013_movies_query)"
   ]
  },
  {
   "cell_type": "markdown",
   "metadata": {},
   "source": [
    "#### Now that we know this works we can unload the data to S3 so that it can be reviewed later"
   ]
  },
  {
   "cell_type": "code",
   "execution_count": null,
   "metadata": {},
   "outputs": [],
   "source": [
    "unload_best_2013_movies_query = '''\n",
    "UNLOAD ('\n",
    "    SELECT title, rating FROM movies\n",
    "    WHERE year = 2013 and rating > 8.0\n",
    "    ORDER BY rating DESC;'\n",
    ")\n",
    "TO 's3://{0}/output/'\n",
    "iam_role '{1}'\n",
    "'''.format(DATA_BUCKET, IAM_ROLE)\n",
    "\n",
    "\n",
    "runquery(conn, unload_best_2013_movies_query)"
   ]
  },
  {
   "cell_type": "markdown",
   "metadata": {},
   "source": [
    "#### Here's a nifty little query that can fix things sometimes if you edit the queries and they fail."
   ]
  },
  {
   "cell_type": "code",
   "execution_count": null,
   "metadata": {},
   "outputs": [],
   "source": [
    "rollback_query = '''rollback;'''\n",
    "runquery(conn, rollback_query, commit_bool=True)"
   ]
  },
  {
   "cell_type": "markdown",
   "metadata": {},
   "source": [
    "# All Done!"
   ]
  }
 ],
 "metadata": {
  "kernelspec": {
   "display_name": "Python 3",
   "language": "python",
   "name": "python3"
  },
  "language_info": {
   "codemirror_mode": {
    "name": "ipython",
    "version": 3
   },
   "file_extension": ".py",
   "mimetype": "text/x-python",
   "name": "python",
   "nbconvert_exporter": "python",
   "pygments_lexer": "ipython3",
   "version": "3.7.3"
  }
 },
 "nbformat": 4,
 "nbformat_minor": 2
}
